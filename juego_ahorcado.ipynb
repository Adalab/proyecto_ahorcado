{
 "cells": [
  {
   "cell_type": "markdown",
   "metadata": {},
   "source": [
    "# Juego del Ahorcado"
   ]
  },
  {
   "cell_type": "markdown",
   "metadata": {},
   "source": [
    "Lo primero que hemos hecho es especificar una serie de palabras que el programa selecciona aleatoriamente y que el jugador tendrá que adivinar. \n",
    "\n"
   ]
  },
  {
   "cell_type": "markdown",
   "metadata": {},
   "source": [
    "Utilizamos el módulo random de Python para que el programa elija aleatoriamente una palabra de la lista. \n",
    "\n",
    "- Definimos el número máximo de intentos a seis.\n",
    "- Creamos una lista vacía donde se irán guardando las letras adivinadas. \n",
    "- Dentro del módulo random usamos el método choice, que es el que nos ayuda a seleccionar una de las palabras. \n",
    "- Inicializamos los intentos fallidos a cero.\n",
    "- Creamos una variable donde se le da forma a nuestra palabra oculta.  \n"
   ]
  },
  {
   "cell_type": "code",
   "execution_count": 15,
   "metadata": {},
   "outputs": [],
   "source": [
    "\n",
    "import random\n",
    "# Lista de palabras para adivinar\n",
    "palabras = [\"aguacate\", \"python\", \"ahorcado\"]\n",
    "palabra = random.choice(palabras)\n",
    "max_intentos = 6\n",
    "palabra_oculta = '_' * len(palabra)\n",
    "intentos_fallidos = 0\n",
    "letras_adivinadas=[]"
   ]
  },
  {
   "cell_type": "markdown",
   "metadata": {},
   "source": [
    "Para iniciar el juego, preguntamos al usuario si quiere jugar usando la función input. En caso afirmativo se le da la bienvenida al juego. "
   ]
  },
  {
   "cell_type": "code",
   "execution_count": 16,
   "metadata": {},
   "outputs": [],
   "source": [
    "def iniciar_juego():\n",
    "    partida = input('¿Quieres jugar?: Sí (S) No(N)').lower()\n",
    "    if partida == 's':\n",
    "        print('¡¡Bienvenido al juego del ahorcado!!!')\n",
    "    else: \n",
    "        print('Hasta pronto')\n",
    "        return"
   ]
  },
  {
   "cell_type": "code",
   "execution_count": 17,
   "metadata": {},
   "outputs": [
    {
     "name": "stdout",
     "output_type": "stream",
     "text": [
      "¡¡Bienvenido al juego del ahorcado!!!\n"
     ]
    }
   ],
   "source": [
    "iniciar_juego()"
   ]
  },
  {
   "cell_type": "markdown",
   "metadata": {},
   "source": [
    "- Mostramos una representación gráfica del ahorcado, usando el lenguaje de programación ASCII, en función del número de intentos fallidos. "
   ]
  },
  {
   "cell_type": "code",
   "execution_count": 18,
   "metadata": {},
   "outputs": [],
   "source": [
    "def mostrar_ahorcado(intentos):\n",
    "    if intentos == 0:\n",
    "        print('''\n",
    "           ------\n",
    "           |    |\n",
    "           |\n",
    "           |\n",
    "           |\n",
    "           |\n",
    "        --------\n",
    "        ''')\n",
    "    elif intentos == 1:\n",
    "        print('''\n",
    "           ------\n",
    "           |    |\n",
    "           |    O\n",
    "           |\n",
    "           |\n",
    "           |\n",
    "        --------\n",
    "        ''')\n",
    "    elif intentos == 2:\n",
    "        print('''\n",
    "           ------\n",
    "           |    |\n",
    "           |    O\n",
    "           |    |\n",
    "           |\n",
    "           |\n",
    "        --------\n",
    "        ''')\n",
    "    elif intentos == 3:\n",
    "        print('''\n",
    "           ------\n",
    "           |    |\n",
    "           |    O\n",
    "           |   /|\n",
    "           |\n",
    "           |\n",
    "        --------\n",
    "        ''')\n",
    "    elif intentos == 4:\n",
    "        print('''\n",
    "           ------\n",
    "           |    |\n",
    "           |    O\n",
    "           |   /|\\\\\n",
    "           |\n",
    "           |\n",
    "        --------\n",
    "        ''')\n",
    "    elif intentos == 5:\n",
    "        print('''\n",
    "           ------\n",
    "           |    |\n",
    "           |    O\n",
    "           |   /|\\\\\n",
    "           |   /\n",
    "           |\n",
    "        --------\n",
    "        ''')\n",
    "    elif intentos == 6:\n",
    "        print('''\n",
    "           ------\n",
    "           |    |\n",
    "           |    O\n",
    "           |   /|\\\\\n",
    "           |   / \\\\\n",
    "           |\n",
    "        --------\n",
    "        ''')\n",
    "\n"
   ]
  },
  {
   "cell_type": "markdown",
   "metadata": {},
   "source": [
    "- Esta función cuenta el número de letras que tiene la palabra y pone la letra acertada en la posición correcta. "
   ]
  },
  {
   "cell_type": "code",
   "execution_count": 19,
   "metadata": {},
   "outputs": [],
   "source": [
    "\n",
    "def adivinar_posiciones(palabra, letra):\n",
    "    posiciones = []\n",
    "    longitud_palabra = len(palabra)\n",
    "    for i in range(longitud_palabra):\n",
    "        if palabra[i] == letra:\n",
    "            posiciones.append(i)\n",
    "    \n",
    "    return posiciones"
   ]
  },
  {
   "cell_type": "markdown",
   "metadata": {},
   "source": [
    "- Con esta función verificamos que el usuario introduce un único valor válido. Para ello usamos la estructura try - except, que nos anticipa ante cualquier error. "
   ]
  },
  {
   "cell_type": "code",
   "execution_count": 1,
   "metadata": {},
   "outputs": [],
   "source": [
    "letras_adivinadas = []\n",
    "def validar_letras(letra, letras_adivinadas):\n",
    "    try:\n",
    "        if len(letra) != 1 and letra.isalpha():\n",
    "            print(f'Por favor introduce una sola letra válida')\n",
    "        elif letra in letras_adivinadas:\n",
    "            print(f'Ya has adivinado con esta letra. Intenta con otra')\n",
    "    except TypeError:\n",
    "        print(f' Introduce una letra, por favor')"
   ]
  },
  {
   "cell_type": "markdown",
   "metadata": {},
   "source": [
    "- En esta función basándonos en los valores iniciales entramos en un bucle while, que se ejecuta hasta alcanzar el número máximo de intentos y con una serie de condiciones: \n",
    "    - Si la letra se encuentra en la palabra oculta, se agrega en su posición correcta llamando a la función: adivinar posiciones. \n",
    "    - De lo contrario, mostrará la representación gráfica del primer fallo y así sucesivamente. \n",
    "    - En caso de llegar al máximo de intentos, mostrará un mensaje informándote que se han acabado los intentos. \n",
    "    "
   ]
  },
  {
   "cell_type": "code",
   "execution_count": 21,
   "metadata": {},
   "outputs": [],
   "source": [
    "\n",
    "def desarrollo_juego():\n",
    "    max_intentos = 6  # Definimos el máximo de intentos\n",
    "    intentos_fallidos = 0\n",
    "    palabra_oculta = \"_\" * len(palabra)  # Palabra oculta con guiones bajos\n",
    "    letras_adivinadas = []  # Lista para letras ya adivinadas\n",
    "    while intentos_fallidos < max_intentos:\n",
    "        print(f'Palabra oculta: {palabra_oculta}')\n",
    "        mostrar_ahorcado(intentos_fallidos)\n",
    "        letra = input('Escribe una letra: ').lower()\n",
    "        if letra in letras_adivinadas:\n",
    "            print(f'Ya has dicho la letra {letra}. Prueba otra.')\n",
    "            continue\n",
    "        letras_adivinadas.append(letra)\n",
    "        # Usamos la función adivinar_posiciones para encontrar la letra en la palabra\n",
    "        posiciones = adivinar_posiciones(palabra, letra)\n",
    "        if posiciones:\n",
    "            print(f'¡La letra \"{letra}\" está en la palabra!')\n",
    "            # Actualizamos la palabra oculta con las posiciones encontradas\n",
    "            palabra_oculta_lista = list(palabra_oculta)  # Convertimos a lista para modificar\n",
    "            for posicion in posiciones:\n",
    "                palabra_oculta_lista[posicion] = letra  # Reemplazamos los guiones bajos con la letra\n",
    "            palabra_oculta = \"\".join(palabra_oculta_lista)  # Convertimos de nuevo a cadena\n",
    "            print(f'Palabra oculta actualizada: {palabra_oculta}')\n",
    "            # Si ya no quedan guiones bajos, el jugador ha ganado\n",
    "            if \"_\" not in palabra_oculta:\n",
    "                print(f'¡Felicidades! Has adivinado la palabra: {palabra}')\n",
    "                break\n",
    "        else:\n",
    "            # Si no adivina, incrementamos los intentos fallidos\n",
    "            print(f'La letra \"{letra}\" no está en la palabra. Prueba de nuevo.')\n",
    "            intentos_fallidos += 1\n",
    "            print(f'Intentos fallidos: {intentos_fallidos}/{max_intentos}')\n",
    "    # Condición si se acaban los intentos\n",
    "    if intentos_fallidos == max_intentos:\n",
    "        print(f'Máximo de intentos agotados.')\n",
    "    "
   ]
  },
  {
   "cell_type": "code",
   "execution_count": 22,
   "metadata": {},
   "outputs": [
    {
     "name": "stdout",
     "output_type": "stream",
     "text": [
      "Palabra oculta: ______\n",
      "\n",
      "           ------\n",
      "           |    |\n",
      "           |\n",
      "           |\n",
      "           |\n",
      "           |\n",
      "        --------\n",
      "        \n",
      "La letra \"a\" no está en la palabra. Prueba de nuevo.\n",
      "Intentos fallidos: 1/6\n",
      "Palabra oculta: ______\n",
      "\n",
      "           ------\n",
      "           |    |\n",
      "           |    O\n",
      "           |\n",
      "           |\n",
      "           |\n",
      "        --------\n",
      "        \n",
      "¡La letra \"p\" está en la palabra!\n",
      "Palabra oculta actualizada: p_____\n",
      "Palabra oculta: p_____\n",
      "\n",
      "           ------\n",
      "           |    |\n",
      "           |    O\n",
      "           |\n",
      "           |\n",
      "           |\n",
      "        --------\n",
      "        \n",
      "La letra \"u\" no está en la palabra. Prueba de nuevo.\n",
      "Intentos fallidos: 2/6\n",
      "Palabra oculta: p_____\n",
      "\n",
      "           ------\n",
      "           |    |\n",
      "           |    O\n",
      "           |    |\n",
      "           |\n",
      "           |\n",
      "        --------\n",
      "        \n",
      "Ya has dicho la letra a. Prueba otra.\n",
      "Palabra oculta: p_____\n",
      "\n",
      "           ------\n",
      "           |    |\n",
      "           |    O\n",
      "           |    |\n",
      "           |\n",
      "           |\n",
      "        --------\n",
      "        \n",
      "La letra \"q\" no está en la palabra. Prueba de nuevo.\n",
      "Intentos fallidos: 3/6\n",
      "Palabra oculta: p_____\n",
      "\n",
      "           ------\n",
      "           |    |\n",
      "           |    O\n",
      "           |   /|\n",
      "           |\n",
      "           |\n",
      "        --------\n",
      "        \n",
      "La letra \"x\" no está en la palabra. Prueba de nuevo.\n",
      "Intentos fallidos: 4/6\n",
      "Palabra oculta: p_____\n",
      "\n",
      "           ------\n",
      "           |    |\n",
      "           |    O\n",
      "           |   /|\\\n",
      "           |\n",
      "           |\n",
      "        --------\n",
      "        \n",
      "La letra \"m\" no está en la palabra. Prueba de nuevo.\n",
      "Intentos fallidos: 5/6\n",
      "Palabra oculta: p_____\n",
      "\n",
      "           ------\n",
      "           |    |\n",
      "           |    O\n",
      "           |   /|\\\n",
      "           |   /\n",
      "           |\n",
      "        --------\n",
      "        \n",
      "¡La letra \"h\" está en la palabra!\n",
      "Palabra oculta actualizada: p__h__\n",
      "Palabra oculta: p__h__\n",
      "\n",
      "           ------\n",
      "           |    |\n",
      "           |    O\n",
      "           |   /|\\\n",
      "           |   /\n",
      "           |\n",
      "        --------\n",
      "        \n",
      "La letra \"f\" no está en la palabra. Prueba de nuevo.\n",
      "Intentos fallidos: 6/6\n",
      "Máximo de intentos agotados.\n"
     ]
    }
   ],
   "source": [
    "desarrollo_juego()"
   ]
  },
  {
   "cell_type": "markdown",
   "metadata": {},
   "source": [
    "- Con esta función, si la palabra oculta coincide con la palabra seleccionada aleatoriamente aparecerá un mensaje de enhorabuena junto a una copa. \n",
    "- En caso contrario, el jugador habrá perdido. "
   ]
  },
  {
   "cell_type": "code",
   "execution_count": 23,
   "metadata": {},
   "outputs": [],
   "source": [
    "def terminar_juego():\n",
    "    if palabra_oculta == palabra:\n",
    "        print(f'Felicidades. Has adivinado la palabra {palabra}')\n",
    "    else:\n",
    "        print('Lo siento. ¡Has perdido!')\n",
    "        mostrar_ahorcado(max_intentos)\n",
    "        print(f'La palabra era: {palabra}')"
   ]
  },
  {
   "cell_type": "code",
   "execution_count": 24,
   "metadata": {},
   "outputs": [
    {
     "name": "stdout",
     "output_type": "stream",
     "text": [
      "Lo siento. ¡Has perdido!\n",
      "\n",
      "           ------\n",
      "           |    |\n",
      "           |    O\n",
      "           |   /|\\\n",
      "           |   / \\\n",
      "           |\n",
      "        --------\n",
      "        \n",
      "La palabra era: python\n"
     ]
    }
   ],
   "source": [
    "terminar_juego()"
   ]
  },
  {
   "cell_type": "markdown",
   "metadata": {},
   "source": [
    "- Con esta función, hemos unificado en una sola las principales funciones del juego. "
   ]
  },
  {
   "cell_type": "code",
   "execution_count": 25,
   "metadata": {},
   "outputs": [],
   "source": [
    "def juego ():\n",
    "    iniciar_juego()\n",
    "    desarrollo_juego()\n",
    "    terminar_juego()"
   ]
  },
  {
   "cell_type": "markdown",
   "metadata": {},
   "source": [
    "- Y para terminar damos la opción poder jugar todas las veces que el jugador desee. "
   ]
  },
  {
   "cell_type": "code",
   "execution_count": 26,
   "metadata": {},
   "outputs": [],
   "source": [
    "def jugar_otra_vez():\n",
    "    partida = input(\"¿Quieres jugar otra vez? Sí (S) No (N): \").lower()\n",
    "    if partida == 's':\n",
    "        juego()\n",
    "        validar_letras(letra, letras_adivinadas)\n",
    "\n",
    "    else:\n",
    "        print(\"Gracias por jugar. ¡Hasta pronto!\")"
   ]
  },
  {
   "cell_type": "code",
   "execution_count": null,
   "metadata": {},
   "outputs": [
    {
     "name": "stdout",
     "output_type": "stream",
     "text": [
      "¡¡Bienvenido al juego del ahorcado!!!\n",
      "Palabra oculta: ______\n",
      "\n",
      "           ------\n",
      "           |    |\n",
      "           |\n",
      "           |\n",
      "           |\n",
      "           |\n",
      "        --------\n",
      "        \n",
      "La letra \"a\" no está en la palabra. Prueba de nuevo.\n",
      "Intentos fallidos: 1/6\n",
      "Palabra oculta: ______\n",
      "\n",
      "           ------\n",
      "           |    |\n",
      "           |    O\n",
      "           |\n",
      "           |\n",
      "           |\n",
      "        --------\n",
      "        \n",
      "La letra \"3\" no está en la palabra. Prueba de nuevo.\n",
      "Intentos fallidos: 2/6\n",
      "Palabra oculta: ______\n",
      "\n",
      "           ------\n",
      "           |    |\n",
      "           |    O\n",
      "           |    |\n",
      "           |\n",
      "           |\n",
      "        --------\n",
      "        \n",
      "¡La letra \"p\" está en la palabra!\n",
      "Palabra oculta actualizada: p_____\n",
      "Palabra oculta: p_____\n",
      "\n",
      "           ------\n",
      "           |    |\n",
      "           |    O\n",
      "           |    |\n",
      "           |\n",
      "           |\n",
      "        --------\n",
      "        \n",
      "¡La letra \"y\" está en la palabra!\n",
      "Palabra oculta actualizada: py____\n",
      "Palabra oculta: py____\n",
      "\n",
      "           ------\n",
      "           |    |\n",
      "           |    O\n",
      "           |    |\n",
      "           |\n",
      "           |\n",
      "        --------\n",
      "        \n",
      "La letra \"\" no está en la palabra. Prueba de nuevo.\n",
      "Intentos fallidos: 3/6\n",
      "Palabra oculta: py____\n",
      "\n",
      "           ------\n",
      "           |    |\n",
      "           |    O\n",
      "           |   /|\n",
      "           |\n",
      "           |\n",
      "        --------\n",
      "        \n",
      "Ya has dicho la letra . Prueba otra.\n",
      "Palabra oculta: py____\n",
      "\n",
      "           ------\n",
      "           |    |\n",
      "           |    O\n",
      "           |   /|\n",
      "           |\n",
      "           |\n",
      "        --------\n",
      "        \n",
      "Ya has dicho la letra . Prueba otra.\n",
      "Palabra oculta: py____\n",
      "\n",
      "           ------\n",
      "           |    |\n",
      "           |    O\n",
      "           |   /|\n",
      "           |\n",
      "           |\n",
      "        --------\n",
      "        \n",
      "Ya has dicho la letra . Prueba otra.\n",
      "Palabra oculta: py____\n",
      "\n",
      "           ------\n",
      "           |    |\n",
      "           |    O\n",
      "           |   /|\n",
      "           |\n",
      "           |\n",
      "        --------\n",
      "        \n"
     ]
    }
   ],
   "source": [
    "jugar_otra_vez()"
   ]
  }
 ],
 "metadata": {
  "kernelspec": {
   "display_name": "base",
   "language": "python",
   "name": "python3"
  },
  "language_info": {
   "codemirror_mode": {
    "name": "ipython",
    "version": 3
   },
   "file_extension": ".py",
   "mimetype": "text/x-python",
   "name": "python",
   "nbconvert_exporter": "python",
   "pygments_lexer": "ipython3",
   "version": "3.12.4"
  }
 },
 "nbformat": 4,
 "nbformat_minor": 2
}
