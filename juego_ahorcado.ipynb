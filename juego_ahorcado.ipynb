{
 "cells": [
  {
   "cell_type": "markdown",
   "metadata": {},
   "source": [
    "# Juego del Ahorcado"
   ]
  },
  {
   "cell_type": "markdown",
   "metadata": {},
   "source": [
    "Lo primero que hemos hecho es especificar una serie de palabras que el programa selecciona aleatoriamente y que el jugador tendrá que adivinar. \n",
    "\n"
   ]
  },
  {
   "cell_type": "markdown",
   "metadata": {},
   "source": [
    "Utilizamos el módulo random de Python para que el programa elija aleatoriamente una palabra de la lista. \n",
    "\n",
    "- Definimos el número máximo de intentos a seis.\n",
    "- Creamos una lista vacía donde se irán guardando las letras adivinadas. \n",
    "- Dentro del módulo random usamos el método choice, que es el que nos ayuda a seleccionar una de las palabras. \n",
    "- Inicializamos los intentos fallidos a cero.\n",
    "- Creamos una variable donde se le da forma a nuestra palabra oculta.  \n"
   ]
  },
  {
   "cell_type": "code",
   "execution_count": 146,
   "metadata": {},
   "outputs": [],
   "source": [
    "\n",
    "import random\n",
    "# Lista de palabras para adivinar\n",
    "palabras = ['calabaza', 'truco', 'trato', 'halloween', 'terror', 'fantasma','caramelos']\n",
    "max_intentos = 6  # Define el máximo de intentos# Función para iniciar el juego"
   ]
  },
  {
   "cell_type": "markdown",
   "metadata": {},
   "source": [
    "Para iniciar el juego, preguntamos al usuario si quiere jugar usando la función input. En caso afirmativo se le da la bienvenida al juego. "
   ]
  },
  {
   "cell_type": "code",
   "execution_count": 164,
   "metadata": {},
   "outputs": [],
   "source": [
    "def iniciar_juego():\n",
    "    partida = input(\"¿Quieres jugar? Sí (S) No (N): \").lower()\n",
    "    if partida == 's':\n",
    "        print(\"¡¡Bienvenido al juego del ahorcado!!!\")\n",
    "        return True\n",
    "    else:\n",
    "        print(\"Hasta pronto\")\n",
    "        return False# Función para mostrar el estado del ahorcado"
   ]
  },
  {
   "cell_type": "markdown",
   "metadata": {},
   "source": [
    "- Mostramos una representación gráfica del ahorcado, usando el lenguaje de programación ASCII, en función del número de intentos fallidos. "
   ]
  },
  {
   "cell_type": "code",
   "execution_count": 148,
   "metadata": {},
   "outputs": [],
   "source": [
    "def mostrar_ahorcado(intentos):\n",
    "    estados = [\n",
    "        '''\n",
    "           ------\n",
    "           |    |\n",
    "           |\n",
    "           |\n",
    "           |\n",
    "           |\n",
    "        --------\n",
    "        ''',\n",
    "        '''\n",
    "           ------\n",
    "           |    |\n",
    "           |    O\n",
    "           |\n",
    "           |\n",
    "           |\n",
    "        --------\n",
    "        ''',\n",
    "        '''\n",
    "           ------\n",
    "           |    |\n",
    "           |    O\n",
    "           |    |\n",
    "           |\n",
    "           |\n",
    "        --------\n",
    "        ''',\n",
    "        '''\n",
    "           ------\n",
    "           |    |\n",
    "           |    O\n",
    "           |   /|\n",
    "           |\n",
    "           |\n",
    "        --------\n",
    "        ''',\n",
    "        '''\n",
    "           ------\n",
    "           |    |\n",
    "           |    O\n",
    "           |   /|\\\\\n",
    "           |\n",
    "           |\n",
    "        --------\n",
    "        ''',\n",
    "        '''\n",
    "           ------\n",
    "           |    |\n",
    "           |    O\n",
    "           |   /|\\\\\n",
    "           |   /\n",
    "           |\n",
    "        --------\n",
    "        ''',\n",
    "        '''\n",
    "           ------\n",
    "           |    |\n",
    "           |    O\n",
    "           |   /|\\\\\n",
    "           |   / \\\\\n",
    "           |\n",
    "        --------\n",
    "        '''\n",
    "    ]\n",
    "    print(estados[intentos])# Función para validar que la letra sea válida\n",
    "\n"
   ]
  },
  {
   "cell_type": "markdown",
   "metadata": {},
   "source": [
    "- Esta función cuenta el número de letras que tiene la palabra y pone la letra acertada en la posición correcta. "
   ]
  },
  {
   "cell_type": "code",
   "execution_count": 149,
   "metadata": {},
   "outputs": [],
   "source": [
    "\n",
    "def adivinar_posiciones(palabra, letra):\n",
    "    posiciones = []\n",
    "    longitud_palabra = len(palabra)\n",
    "    for i in range(longitud_palabra):\n",
    "        if palabra[i] == letra:\n",
    "            posiciones.append(i)\n",
    "    \n",
    "    return posiciones"
   ]
  },
  {
   "cell_type": "code",
   "execution_count": null,
   "metadata": {},
   "outputs": [],
   "source": []
  },
  {
   "cell_type": "markdown",
   "metadata": {},
   "source": [
    "- Con esta función verificamos que el usuario introduce un único valor válido. Para ello usamos la estructura try - except, que nos anticipa ante cualquier error. "
   ]
  },
  {
   "cell_type": "code",
   "execution_count": 150,
   "metadata": {},
   "outputs": [],
   "source": [
    "# Función para validar que la letra sea válida\n",
    "def validar_letras(letra, letras_adivinadas):\n",
    "    if len(letra) != 1 or not letra.isalpha():\n",
    "        print(\"Introduce una sola letra válida\")\n",
    "        return False, intentos_fallidos + 1\n",
    "    elif letra in letras_adivinadas:\n",
    "        print(\"Ya has intentado esta letra. Prueba otra.\")\n",
    "        return False, intentos_fallidos\n",
    "    return True, intentos_fallidos        \n",
    "      "
   ]
  },
  {
   "cell_type": "markdown",
   "metadata": {},
   "source": [
    "- En esta función basándonos en los valores iniciales entramos en un bucle while, que se ejecuta hasta alcanzar el número máximo de intentos y con una serie de condiciones: \n",
    "    - Si la letra se encuentra en la palabra oculta, se agrega en su posición correcta llamando a la función: adivinar posiciones. \n",
    "    - De lo contrario, mostrará la representación gráfica del primer fallo y así sucesivamente. \n",
    "    - En caso de llegar al máximo de intentos, mostrará un mensaje informándote que se han acabado los intentos. \n",
    "    "
   ]
  },
  {
   "cell_type": "code",
   "execution_count": 160,
   "metadata": {},
   "outputs": [],
   "source": [
    "\n",
    "# Función de desarrollo principal del juego\n",
    "def desarrollo_juego():\n",
    "    palabra = random.choice(palabras)\n",
    "    intentos_fallidos = 0\n",
    "    palabra_oculta = \"_\" * len(palabra)\n",
    "    letras_adivinadas = []    \n",
    "    while intentos_fallidos < max_intentos:\n",
    "        print(f\"\\nPalabra: {palabra_oculta}\")\n",
    "        mostrar_ahorcado(intentos_fallidos)\n",
    "        letra = input(\"Escribe una letra: \").lower()        # Validar letra\n",
    "        if not validar_letras(letra, letras_adivinadas):\n",
    "            continue        \n",
    "        letras_adivinadas.append(letra)\n",
    "        if letra in palabra:\n",
    "            # Actualizar palabra oculta\n",
    "            palabra_oculta = ''.join([letra if palabra[i] == letra else palabra_oculta[i] for i in range(len(palabra))])\n",
    "            print(f\"¡Bien hecho! La letra '{letra}' está en la palabra.\")\n",
    "            if \"_\" not in palabra_oculta:\n",
    "                terminar_juego(True, palabra)\n",
    "                return\n",
    "        else:\n",
    "            intentos_fallidos += 1\n",
    "            print(f\"{letra} no está en la palabra. Intentos restantes: {max_intentos - intentos_fallidos}\")    # Si se agotan los intentos, finalizar el juego como perdido\n",
    "    terminar_juego(False, palabra)"
   ]
  },
  {
   "cell_type": "markdown",
   "metadata": {},
   "source": [
    "- Con esta función, si la palabra oculta coincide con la palabra seleccionada aleatoriamente aparecerá un mensaje de enhorabuena junto a una copa. \n",
    "- En caso contrario, el jugador habrá perdido. "
   ]
  },
  {
   "cell_type": "code",
   "execution_count": 162,
   "metadata": {},
   "outputs": [],
   "source": [
    "# Función para finalizar el juego y mostrar resultado\n",
    "def terminar_juego(ganado, palabra):\n",
    "    if ganado:\n",
    "        print(f\"\\n¡Felicidades! Has adivinado la palabra: {palabra}\")\n",
    "        print(\"\"\"\n",
    "                ⠀⠀⠀⠀⣠⠤⠤⣄⣠⣤⣤⡤⠤⠤⠤⠤⠤⠤⠤⣤⣤⣤⣠⠤⠤⣄⠀⠀⠀⠀\n",
    "                ⠀⠀⠀⡜⢁⡶⠶⢤⡇⠀⠈⠉⠉⠉⠉⠉⠉⠉⠉⠉⠀⠸⡦⠾⠶⡄⢳⠀⠀⠀\n",
    "                ⠀⠀⠀⡇⢸⠀⠀⠀⡃⠀⠀⠀⠀⠀⠀⠀⠀⠀⠀⠀⠀⠀⡇⠀⠀⡇⢸⡆⠀⠀\n",
    "                ⠀⠀⠀⢧⠘⣆⠀⠀⡇⠀⠀⠀⠀⠀⠀⠀⠀⠀⠀⠀⠀⢰⠇⠀⢠⠇⣸⠀⠀⠀\n",
    "                ⠀⠀⠀⠈⢦⡘⠦⣀⠹⡀⠀⠀⠀⠀⠀⠀⠀⠀⠀⠀⢀⡞⣀⡴⠋⡰⠃⠀⠀⠀\n",
    "                ⠀⠀⠀⠀⠀⠙⠦⣌⡙⠻⣄⠀⠀⠀⠀⠀⠀⠀⠀⣠⠞⠋⣁⡴⠚⠁⠀⠀⠀⠀\n",
    "                ⠀⠀⠀⠀⠀⠀⠀⠀⠉⠉⠚⠳⣄⠀⠀⠀⠀⣠⠖⠓⠋⠉⠀⠀⠀⠀⠀⠀⠀⠀\n",
    "                ⠀⠀⠀⠀⠀⠀⠀⠀⠀⠀⠀⠀⠈⢳⡀⠀⡼⠁⠀⠀⠀⠀⠀⠀⠀⠀⠀⠀⠀⠀\n",
    "                ⠀⠀⠀⠀⠀⠀⠀⠀⠀⠀⠀⠀⠀⢀⡇⠸⡇⠀⠀⠀⠀⠀⠀⠀⠀⠀⠀⠀⠀⠀\n",
    "                ⠀⠀⠀⠀⠀⠀⠀⠀⠀⠀⠀⠀⢀⡜⠀⠀⢳⡀⠀⠀⠀⠀⠀⠀⠀⠀⠀⠀⠀⠀\n",
    "                ⠀⠀⠀⠀⠀⠀⠀⠀⠀⠀⠀⢀⣞⣀⣀⣀⣀⣳⡀⠀⠀⠀⠀⠀⠀⠀⠀⠀⠀⠀\n",
    "                ⠀⠀⠀⠀⠀⠀⠀⠀⠀⠀⠀⣾⠉⠉⠉⠉⠉⠉⢹⠀⠀⠀⠀⠀⠀⠀⠀⠀⠀⠀\n",
    "                ⠀⠀⠀⠀⠀⠀⠀⠀⠀⠀⢀⡷⠤⠤⠤⠤⠤⠤⠼⡄⠀⠀⠀⠀⠀⠀⠀⠀⠀⠀\n",
    "                ⠀⠀⠀⠀⠀⠀⠀⠀⠀⠀⠈⠓⠒⠒⠒⠒⠒⠒⠒⠁⠀⠀⠀⠀⠀⠀⠀⠀⠀⠀\n",
    "                ⠀⢀⣀⣀⣀⣀⣀⣀⣀⣀⣀⣀⣀⣀⣀⣀⣀⣀⣀⣀⡀⢀⣀⣀⣀⣀⣀⣀⣀⣀\n",
    "                ⣿⣯⣿⣿⣿⣿⣿⣿⣿⣿⣿⣿⣿⣿⣿⣿⣿⣿⣿⣿⣿⣿⣿⣿⣿⣿⣿⣿⣿⣿\n",
    "              \"\"\")\n",
    "    else:\n",
    "        print(\"\\nLo siento, has perdido.\")\n",
    "        mostrar_ahorcado(max_intentos)\n",
    "        print(f\"La palabra era: {palabra}\")"
   ]
  },
  {
   "cell_type": "code",
   "execution_count": null,
   "metadata": {},
   "outputs": [],
   "source": [
    "terminar_juego(ganado, palabra)"
   ]
  },
  {
   "cell_type": "markdown",
   "metadata": {},
   "source": [
    "- Con esta función, hemos unificado en una sola las principales funciones del juego. "
   ]
  },
  {
   "cell_type": "code",
   "execution_count": 154,
   "metadata": {},
   "outputs": [],
   "source": [
    "def juego():\n",
    "    if iniciar_juego():\n",
    "        desarrollo_juego()\n",
    "        terminar_juego()"
   ]
  },
  {
   "cell_type": "code",
   "execution_count": 153,
   "metadata": {},
   "outputs": [],
   "source": [
    "# Función para preguntar si desea jugar otra vez\n",
    "def jugar_otra_vez():\n",
    "    partida = input(\"¿Quieres jugar otra vez? Sí (S) No (N): \").lower()\n",
    "    if partida == 's':\n",
    "        juego()\n",
    "    else:\n",
    "        print(\"Gracias por jugar. ¡Hasta pronto!\")"
   ]
  },
  {
   "cell_type": "markdown",
   "metadata": {},
   "source": [
    "- Y para terminar damos la opción poder jugar todas las veces que el jugador desee. "
   ]
  },
  {
   "cell_type": "code",
   "execution_count": null,
   "metadata": {},
   "outputs": [],
   "source": [
    "juego()"
   ]
  },
  {
   "cell_type": "code",
   "execution_count": null,
   "metadata": {},
   "outputs": [],
   "source": [
    "jugar_otra_vez()"
   ]
  }
 ],
 "metadata": {
  "kernelspec": {
   "display_name": "base",
   "language": "python",
   "name": "python3"
  },
  "language_info": {
   "codemirror_mode": {
    "name": "ipython",
    "version": 3
   },
   "file_extension": ".py",
   "mimetype": "text/x-python",
   "name": "python",
   "nbconvert_exporter": "python",
   "pygments_lexer": "ipython3",
   "version": "3.12.4"
  }
 },
 "nbformat": 4,
 "nbformat_minor": 2
}
