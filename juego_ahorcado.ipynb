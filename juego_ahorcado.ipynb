{
 "cells": [
  {
   "cell_type": "code",
   "execution_count": 55,
   "metadata": {},
   "outputs": [
    {
     "ename": "IndentationError",
     "evalue": "unexpected indent (4291289949.py, line 83)",
     "output_type": "error",
     "traceback": [
      "\u001b[1;36m  Cell \u001b[1;32mIn[55], line 83\u001b[1;36m\u001b[0m\n\u001b[1;33m    una letra: ').lower()\u001b[0m\n\u001b[1;37m    ^\u001b[0m\n\u001b[1;31mIndentationError\u001b[0m\u001b[1;31m:\u001b[0m unexpected indent\n"
     ]
    }
   ],
   "source": [
    "palabra = 'Aguacate'\n",
    "max_intentos = 10\n",
    "palabra_oculta = '_'\n",
    "\n",
    "def mostrar_ahorcado(intentos):\n",
    "    if intentos == 0:\n",
    "        print('''\n",
    "           ------\n",
    "           |    |\n",
    "           |\n",
    "           |\n",
    "           |\n",
    "           |\n",
    "        --------\n",
    "        ''')\n",
    "    elif intentos == 1:\n",
    "        print('''\n",
    "           ------\n",
    "           |    |\n",
    "           |    O\n",
    "           |\n",
    "           |\n",
    "           |\n",
    "        --------\n",
    "        ''')\n",
    "    elif intentos == 2:\n",
    "        print('''\n",
    "           ------\n",
    "           |    |\n",
    "           |    O\n",
    "           |    |\n",
    "           |\n",
    "           |\n",
    "        --------\n",
    "        ''')\n",
    "    elif intentos == 3:\n",
    "        print('''\n",
    "           ------\n",
    "           |    |\n",
    "           |    O\n",
    "           |   /|\n",
    "           |\n",
    "           |\n",
    "        --------\n",
    "        ''')\n",
    "    elif intentos == 4:\n",
    "        print('''\n",
    "           ------\n",
    "           |    |\n",
    "           |    O\n",
    "           |   /|\\\n",
    "           |\n",
    "           |\n",
    "        --------\n",
    "        ''')\n",
    "    elif intentos == 5:\n",
    "        print('''\n",
    "           ------\n",
    "           |    |\n",
    "           |    O\n",
    "           |   /|\\\n",
    "           |   /\n",
    "           |\n",
    "        --------\n",
    "        ''')\n",
    "    elif intentos == 6:\n",
    "        print('''\n",
    "           ------\n",
    "           |    |\n",
    "           |    O\n",
    "           |   /|\\\n",
    "           |   / \\\n",
    "           |\n",
    "        --------\n",
    "        ''')\n",
    "\n",
    "\n",
    "\n",
    "\n",
    "                   \n",
    "                    \n",
    "                    \n",
    "                    una letra: ').lower()\n",
    "    \n",
    "\n",
    "\n",
    "\n",
    "        \n",
    "       \n",
    "\n",
    "        \n",
    "        \n",
    "\n",
    "\n",
    "        \n",
    "        max_intentos += 1\n",
    "\n",
    "\n",
    "\n",
    "\n",
    "\n",
    "\n",
    "\n",
    "\n",
    "\n",
    "\n",
    "\n",
    "\n",
    "\n",
    "\n",
    "\n",
    "\n",
    "\n",
    "\n",
    "\n",
    "\n"
   ]
  },
  {
   "cell_type": "code",
   "execution_count": 4,
   "metadata": {},
   "outputs": [],
   "source": []
  },
  {
   "cell_type": "code",
   "execution_count": 12,
   "metadata": {},
   "outputs": [],
   "source": [
    "mostrar_ahorcado()"
   ]
  },
  {
   "cell_type": "code",
   "execution_count": 18,
   "metadata": {},
   "outputs": [],
   "source": [
    "def iniciar_juego():\n",
    "    partida = input('¿Quieres quieres jugar?: Sí (S) No(N)').lower\n",
    "    if partida == 'S':\n",
    "        print('¡¡Bienvenido al juego del ahorcado!!!')\n",
    "    else: \n",
    "        print('Hasta pronto')\n",
    "        return"
   ]
  },
  {
   "cell_type": "code",
   "execution_count": null,
   "metadata": {},
   "outputs": [],
   "source": [
    "iniciar_juego()"
   ]
  },
  {
   "cell_type": "code",
   "execution_count": null,
   "metadata": {},
   "outputs": [],
   "source": [
    "'''palabra = 'Aguacate'\n",
    "max_intentos = 10\n",
    "palabra_oculta = '_'\n",
    "intentos_fallidos = 0\n",
    "nueva_palabra_oculta = \"\"\n",
    "\n",
    "while intentos_fallidos < max_intentos:\n",
    "        print(f'Palabra: {palabra_oculta}')\n",
    "        print('Continúa jugando') \n",
    "        letra = input('Escribe una letra: ').lower()\n",
    "        valor = letra\n",
    "        if letra in palabra:\n",
    "            print(f'{letra} está en la palabra')\n",
    "            for i in range(len(palabra)):\n",
    "                if palabra[i] == letra:\n",
    "                    nueva_palabra_oculta += letra\n",
    "                else:\n",
    "                    nueva_palabra_oculta += palabra_oculta[i]\n",
    "            palabra_oculta = nueva_palabra_oculta'''"
   ]
  },
  {
   "cell_type": "code",
   "execution_count": null,
   "metadata": {},
   "outputs": [],
   "source": [
    "palabra = 'Aguacate'\n",
    "max_intentos = 10\n",
    "palabra_oculta = '_'\n",
    "intentos_fallidos = 0\n",
    "nueva_palabra_oculta = \"\"\n",
    "\n",
    "while intentos_fallidos < max_intentos:\n",
    "        print(f'Palabra: {palabra_oculta}')\n",
    "        print('Continúa jugando') \n",
    "        letra = input('Escribe una letra: ').lower()\n",
    "        valor = letra\n",
    "        if letra in palabra:\n",
    "            print(f'{letra} está en la palabra')\n",
    "            "
   ]
  },
  {
   "cell_type": "code",
   "execution_count": 3,
   "metadata": {},
   "outputs": [],
   "source": [
    "def colocar_letra(palabra, letra, posicion):\n",
    "    if posicion < 0 or posicion > len(palabra): \n",
    "        return \"Posición fuera de rango.\"   # Crear la nueva cadena \n",
    "    nueva_palabra = palabra[:posicion] + letra + palabra[posicion:] \n",
    "    return nueva_palabra"
   ]
  },
  {
   "cell_type": "code",
   "execution_count": 4,
   "metadata": {},
   "outputs": [
    {
     "ename": "TypeError",
     "evalue": "colocar_letra() missing 3 required positional arguments: 'palabra', 'letra', and 'posicion'",
     "output_type": "error",
     "traceback": [
      "\u001b[1;31m---------------------------------------------------------------------------\u001b[0m",
      "\u001b[1;31mTypeError\u001b[0m                                 Traceback (most recent call last)",
      "Cell \u001b[1;32mIn[4], line 1\u001b[0m\n\u001b[1;32m----> 1\u001b[0m colocar_letra()\n",
      "\u001b[1;31mTypeError\u001b[0m: colocar_letra() missing 3 required positional arguments: 'palabra', 'letra', and 'posicion'"
     ]
    }
   ],
   "source": [
    "colocar_letra()"
   ]
  },
  {
   "cell_type": "code",
   "execution_count": 7,
   "metadata": {},
   "outputs": [],
   "source": [
    "letras_adivinadas = []\n",
    "def validar_letras(letra, letras_adivinadas):\n",
    "    try:\n",
    "        if len(letra) != 1:\n",
    "            print(f'Por favor introduce una sola letra')\n",
    "        elif letra in letras_adivinadas:\n",
    "            print(f'Ya has adivinado con esta letra. Intenta con otra')\n",
    "    except TypeError:\n",
    "        print(f' Introduce una letra, por favor')\n",
    "\n",
    "\n",
    "  \n"
   ]
  },
  {
   "cell_type": "code",
   "execution_count": 6,
   "metadata": {},
   "outputs": [],
   "source": [
    "validar_letras()"
   ]
  },
  {
   "cell_type": "code",
   "execution_count": 49,
   "metadata": {},
   "outputs": [],
   "source": [
    "'''def desarrollo_juego(palabra):\n",
    "    intentos_fallidos = 0\n",
    "    while intentos_fallidos < max_intentos:\n",
    "        print('Continúa jugando') \n",
    "        letra = input('Escribe una letra: ').lower()\n",
    "        valor = letra\n",
    "        if letra in palabra:\n",
    "            print(f'{letra} está en la palabra')\n",
    "            for i in range(len[A:Z]):\n",
    "                if palabra[i] == letra:\n",
    "                    palabra_oculta += letra\n",
    "                    print(f'Añade la letra adivinada a mi palabra oculta, {palabra_oculta}')\n",
    "                #print(f'Felicides, la letra adivinada es: {letra_adivinada})\n",
    "        else:\n",
    "            print(f'{letra} no está en la palabra. Prueba de nuevo')\n",
    "            intentos_fallidos += 1\n",
    "            if max_intentos == 10:\n",
    "                print('Máximo de intentos agotados.')'''\n",
    "\n"
   ]
  },
  {
   "cell_type": "code",
   "execution_count": 50,
   "metadata": {},
   "outputs": [
    {
     "ename": "NameError",
     "evalue": "name 'palabra' is not defined",
     "output_type": "error",
     "traceback": [
      "\u001b[1;31m---------------------------------------------------------------------------\u001b[0m",
      "\u001b[1;31mNameError\u001b[0m                                 Traceback (most recent call last)",
      "Cell \u001b[1;32mIn[50], line 1\u001b[0m\n\u001b[1;32m----> 1\u001b[0m desarrollo_juego(palabra)\n",
      "\u001b[1;31mNameError\u001b[0m: name 'palabra' is not defined"
     ]
    }
   ],
   "source": [
    "desarrollo_juego()"
   ]
  },
  {
   "cell_type": "code",
   "execution_count": 25,
   "metadata": {},
   "outputs": [],
   "source": [
    "def terminar_juego():\n",
    "    if palabra_oculta == palabra:\n",
    "        print(f'Felicidades. Has adivinado la palabra {palabra}')\n",
    "    else:\n",
    "        print('Lo siento. ¡Has perdido!')\n",
    "        mostrar_ahorcado(max_intentos)\n",
    "        print(f'La palabra era: {palabra}')"
   ]
  },
  {
   "cell_type": "code",
   "execution_count": null,
   "metadata": {},
   "outputs": [],
   "source": [
    "terminar_juego()"
   ]
  }
 ],
 "metadata": {
  "kernelspec": {
   "display_name": "base",
   "language": "python",
   "name": "python3"
  },
  "language_info": {
   "codemirror_mode": {
    "name": "ipython",
    "version": 3
   },
   "file_extension": ".py",
   "mimetype": "text/x-python",
   "name": "python",
   "nbconvert_exporter": "python",
   "pygments_lexer": "ipython3",
   "version": "3.12.4"
  }
 },
 "nbformat": 4,
 "nbformat_minor": 2
}
