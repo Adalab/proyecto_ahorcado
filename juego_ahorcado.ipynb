{
 "cells": [
  {
   "cell_type": "code",
   "execution_count": 70,
   "metadata": {},
   "outputs": [],
   "source": [
    "palabra = 'aguacate'\n",
    "max_intentos = 6\n",
    "palabra_oculta = '_' * len(palabra)\n",
    "intentos_fallidos = 0\n",
    "letras_adivinadas=[]"
   ]
  },
  {
   "cell_type": "code",
   "execution_count": 71,
   "metadata": {},
   "outputs": [],
   "source": [
    "def iniciar_juego():\n",
    "    partida = input('¿Quieres quieres jugar?: Sí (S) No(N)').lower()\n",
    "    if partida == 's':\n",
    "        print('¡¡Bienvenido al juego del ahorcado!!!')\n",
    "    else: \n",
    "        print('Hasta pronto')\n",
    "        return"
   ]
  },
  {
   "cell_type": "code",
   "execution_count": 72,
   "metadata": {},
   "outputs": [
    {
     "name": "stdout",
     "output_type": "stream",
     "text": [
      "Hasta pronto\n"
     ]
    }
   ],
   "source": [
    "iniciar_juego()"
   ]
  },
  {
   "cell_type": "code",
   "execution_count": 73,
   "metadata": {},
   "outputs": [],
   "source": [
    "def mostrar_ahorcado(intentos):\n",
    "    if intentos == 0:\n",
    "        print('''\n",
    "           ------\n",
    "           |    |\n",
    "           |\n",
    "           |\n",
    "           |\n",
    "           |\n",
    "        --------\n",
    "        ''')\n",
    "    elif intentos == 1:\n",
    "        print('''\n",
    "           ------\n",
    "           |    |\n",
    "           |    O\n",
    "           |\n",
    "           |\n",
    "           |\n",
    "        --------\n",
    "        ''')\n",
    "    elif intentos == 2:\n",
    "        print('''\n",
    "           ------\n",
    "           |    |\n",
    "           |    O\n",
    "           |    |\n",
    "           |\n",
    "           |\n",
    "        --------\n",
    "        ''')\n",
    "    elif intentos == 3:\n",
    "        print('''\n",
    "           ------\n",
    "           |    |\n",
    "           |    O\n",
    "           |   /|\n",
    "           |\n",
    "           |\n",
    "        --------\n",
    "        ''')\n",
    "    elif intentos == 4:\n",
    "        print('''\n",
    "           ------\n",
    "           |    |\n",
    "           |    O\n",
    "           |   /|\\\n",
    "           |\n",
    "           |\n",
    "        --------\n",
    "        ''')\n",
    "    elif intentos == 5:\n",
    "        print('''\n",
    "           ------\n",
    "           |    |\n",
    "           |    O\n",
    "           |   /|\\\n",
    "           |   /\n",
    "           |\n",
    "        --------\n",
    "        ''')\n",
    "    elif intentos == 6:\n",
    "        print('''\n",
    "           ------\n",
    "           |    |\n",
    "           |    O\n",
    "           |   /|\\\n",
    "           |   / \\\n",
    "           |\n",
    "        --------\n",
    "        ''')\n",
    "\n"
   ]
  },
  {
   "cell_type": "code",
   "execution_count": 74,
   "metadata": {},
   "outputs": [],
   "source": [
    "\n",
    "def adivinar_posiciones(palabra, letra):\n",
    "    posiciones = []\n",
    "    longitud_palabra = len(palabra)\n",
    "    for i in range(longitud_palabra):\n",
    "        if palabra[i] == letra:\n",
    "            posiciones.append(i)\n",
    "    \n",
    "    return posiciones"
   ]
  },
  {
   "cell_type": "code",
   "execution_count": 75,
   "metadata": {},
   "outputs": [],
   "source": [
    "letras_adivinadas = []\n",
    "def validar_letras(letra, letras_adivinadas):\n",
    "    try:\n",
    "        if len(letra) != 1:\n",
    "            print(f'Por favor introduce una sola letra')\n",
    "        elif letra in letras_adivinadas:\n",
    "            print(f'Ya has adivinado con esta letra. Intenta con otra')\n",
    "    except TypeError:\n",
    "        print(f' Introduce una letra, por favor')"
   ]
  },
  {
   "cell_type": "code",
   "execution_count": 76,
   "metadata": {},
   "outputs": [],
   "source": [
    "\n",
    "def desarrollo_juego(palabra):\n",
    "    max_intentos = 6  # Definimos el máximo de intentos\n",
    "    intentos_fallidos = 0\n",
    "    palabra_oculta = \"_\" * len(palabra)  # Palabra oculta con guiones bajos\n",
    "    letras_adivinadas = []  # Lista para letras ya adivinadas\n",
    "    while intentos_fallidos < max_intentos:\n",
    "        print(f'Palabra oculta: {palabra_oculta}')\n",
    "        mostrar_ahorcado(intentos_fallidos)\n",
    "        letra = input('Escribe una letra: ').lower()\n",
    "        if letra in letras_adivinadas:\n",
    "            print(f'Ya has adivinado la letra {letra}. Prueba otra.')\n",
    "            continue\n",
    "        letras_adivinadas.append(letra)\n",
    "        # Usamos la función adivinar_posiciones para encontrar la letra en la palabra\n",
    "        posiciones = adivinar_posiciones(palabra, letra)\n",
    "        if posiciones:\n",
    "            print(f'¡La letra \"{letra}\" está en la palabra!')\n",
    "            # Actualizamos la palabra oculta con las posiciones encontradas\n",
    "            palabra_oculta_lista = list(palabra_oculta)  # Convertimos a lista para modificar\n",
    "            for posicion in posiciones:\n",
    "                palabra_oculta_lista[posicion] = letra  # Reemplazamos los guiones bajos con la letra\n",
    "            palabra_oculta = \"\".join(palabra_oculta_lista)  # Convertimos de nuevo a cadena\n",
    "            print(f'Palabra oculta actualizada: {palabra_oculta}')\n",
    "            # Si ya no quedan guiones bajos, el jugador ha ganado\n",
    "            if \"_\" not in palabra_oculta:\n",
    "                print(f'¡Felicidades! Has adivinado la palabra: {palabra}')\n",
    "                break\n",
    "        else:\n",
    "            # Si no adivina, incrementamos los intentos fallidos\n",
    "            print(f'La letra \"{letra}\" no está en la palabra. Prueba de nuevo.')\n",
    "            intentos_fallidos += 1\n",
    "            print(f'Intentos fallidos: {intentos_fallidos}/{max_intentos}')\n",
    "    # Condición si se acaban los intentos\n",
    "    if intentos_fallidos == max_intentos:\n",
    "        print(f'Máximo de intentos agotados. La palabra era: {palabra}')\n",
    "    "
   ]
  },
  {
   "cell_type": "code",
   "execution_count": 77,
   "metadata": {},
   "outputs": [
    {
     "name": "stdout",
     "output_type": "stream",
     "text": [
      "Palabra oculta: ________\n",
      "\n",
      "           ------\n",
      "           |    |\n",
      "           |\n",
      "           |\n",
      "           |\n",
      "           |\n",
      "        --------\n",
      "        \n",
      "La letra \"n\" no está en la palabra. Prueba de nuevo.\n",
      "Intentos fallidos: 1/6\n",
      "Palabra oculta: ________\n",
      "\n",
      "           ------\n",
      "           |    |\n",
      "           |    O\n",
      "           |\n",
      "           |\n",
      "           |\n",
      "        --------\n",
      "        \n",
      "La letra \"\" no está en la palabra. Prueba de nuevo.\n",
      "Intentos fallidos: 2/6\n",
      "Palabra oculta: ________\n",
      "\n",
      "           ------\n",
      "           |    |\n",
      "           |    O\n",
      "           |    |\n",
      "           |\n",
      "           |\n",
      "        --------\n",
      "        \n",
      "Ya has adivinado la letra . Prueba otra.\n",
      "Palabra oculta: ________\n",
      "\n",
      "           ------\n",
      "           |    |\n",
      "           |    O\n",
      "           |    |\n",
      "           |\n",
      "           |\n",
      "        --------\n",
      "        \n",
      "Ya has adivinado la letra . Prueba otra.\n",
      "Palabra oculta: ________\n",
      "\n",
      "           ------\n",
      "           |    |\n",
      "           |    O\n",
      "           |    |\n",
      "           |\n",
      "           |\n",
      "        --------\n",
      "        \n"
     ]
    },
    {
     "ename": "KeyboardInterrupt",
     "evalue": "Interrupted by user",
     "output_type": "error",
     "traceback": [
      "\u001b[0;31m---------------------------------------------------------------------------\u001b[0m",
      "\u001b[0;31mKeyboardInterrupt\u001b[0m                         Traceback (most recent call last)",
      "Cell \u001b[0;32mIn[77], line 1\u001b[0m\n\u001b[0;32m----> 1\u001b[0m desarrollo_juego(palabra)\n",
      "Cell \u001b[0;32mIn[76], line 9\u001b[0m, in \u001b[0;36mdesarrollo_juego\u001b[0;34m(palabra)\u001b[0m\n\u001b[1;32m      7\u001b[0m \u001b[38;5;28mprint\u001b[39m(\u001b[38;5;124mf\u001b[39m\u001b[38;5;124m'\u001b[39m\u001b[38;5;124mPalabra oculta: \u001b[39m\u001b[38;5;132;01m{\u001b[39;00mpalabra_oculta\u001b[38;5;132;01m}\u001b[39;00m\u001b[38;5;124m'\u001b[39m)\n\u001b[1;32m      8\u001b[0m mostrar_ahorcado(intentos_fallidos)\n\u001b[0;32m----> 9\u001b[0m letra \u001b[38;5;241m=\u001b[39m \u001b[38;5;28minput\u001b[39m(\u001b[38;5;124m'\u001b[39m\u001b[38;5;124mEscribe una letra: \u001b[39m\u001b[38;5;124m'\u001b[39m)\u001b[38;5;241m.\u001b[39mlower()\n\u001b[1;32m     10\u001b[0m \u001b[38;5;28;01mif\u001b[39;00m letra \u001b[38;5;129;01min\u001b[39;00m letras_adivinadas:\n\u001b[1;32m     11\u001b[0m     \u001b[38;5;28mprint\u001b[39m(\u001b[38;5;124mf\u001b[39m\u001b[38;5;124m'\u001b[39m\u001b[38;5;124mYa has adivinado la letra \u001b[39m\u001b[38;5;132;01m{\u001b[39;00mletra\u001b[38;5;132;01m}\u001b[39;00m\u001b[38;5;124m. Prueba otra.\u001b[39m\u001b[38;5;124m'\u001b[39m)\n",
      "File \u001b[0;32m~/anaconda3/lib/python3.11/site-packages/ipykernel/kernelbase.py:1202\u001b[0m, in \u001b[0;36mKernel.raw_input\u001b[0;34m(self, prompt)\u001b[0m\n\u001b[1;32m   1200\u001b[0m     msg \u001b[38;5;241m=\u001b[39m \u001b[38;5;124m\"\u001b[39m\u001b[38;5;124mraw_input was called, but this frontend does not support input requests.\u001b[39m\u001b[38;5;124m\"\u001b[39m\n\u001b[1;32m   1201\u001b[0m     \u001b[38;5;28;01mraise\u001b[39;00m StdinNotImplementedError(msg)\n\u001b[0;32m-> 1202\u001b[0m \u001b[38;5;28;01mreturn\u001b[39;00m \u001b[38;5;28mself\u001b[39m\u001b[38;5;241m.\u001b[39m_input_request(\n\u001b[1;32m   1203\u001b[0m     \u001b[38;5;28mstr\u001b[39m(prompt),\n\u001b[1;32m   1204\u001b[0m     \u001b[38;5;28mself\u001b[39m\u001b[38;5;241m.\u001b[39m_parent_ident[\u001b[38;5;124m\"\u001b[39m\u001b[38;5;124mshell\u001b[39m\u001b[38;5;124m\"\u001b[39m],\n\u001b[1;32m   1205\u001b[0m     \u001b[38;5;28mself\u001b[39m\u001b[38;5;241m.\u001b[39mget_parent(\u001b[38;5;124m\"\u001b[39m\u001b[38;5;124mshell\u001b[39m\u001b[38;5;124m\"\u001b[39m),\n\u001b[1;32m   1206\u001b[0m     password\u001b[38;5;241m=\u001b[39m\u001b[38;5;28;01mFalse\u001b[39;00m,\n\u001b[1;32m   1207\u001b[0m )\n",
      "File \u001b[0;32m~/anaconda3/lib/python3.11/site-packages/ipykernel/kernelbase.py:1245\u001b[0m, in \u001b[0;36mKernel._input_request\u001b[0;34m(self, prompt, ident, parent, password)\u001b[0m\n\u001b[1;32m   1242\u001b[0m \u001b[38;5;28;01mexcept\u001b[39;00m \u001b[38;5;167;01mKeyboardInterrupt\u001b[39;00m:\n\u001b[1;32m   1243\u001b[0m     \u001b[38;5;66;03m# re-raise KeyboardInterrupt, to truncate traceback\u001b[39;00m\n\u001b[1;32m   1244\u001b[0m     msg \u001b[38;5;241m=\u001b[39m \u001b[38;5;124m\"\u001b[39m\u001b[38;5;124mInterrupted by user\u001b[39m\u001b[38;5;124m\"\u001b[39m\n\u001b[0;32m-> 1245\u001b[0m     \u001b[38;5;28;01mraise\u001b[39;00m \u001b[38;5;167;01mKeyboardInterrupt\u001b[39;00m(msg) \u001b[38;5;28;01mfrom\u001b[39;00m \u001b[38;5;28;01mNone\u001b[39;00m\n\u001b[1;32m   1246\u001b[0m \u001b[38;5;28;01mexcept\u001b[39;00m \u001b[38;5;167;01mException\u001b[39;00m:\n\u001b[1;32m   1247\u001b[0m     \u001b[38;5;28mself\u001b[39m\u001b[38;5;241m.\u001b[39mlog\u001b[38;5;241m.\u001b[39mwarning(\u001b[38;5;124m\"\u001b[39m\u001b[38;5;124mInvalid Message:\u001b[39m\u001b[38;5;124m\"\u001b[39m, exc_info\u001b[38;5;241m=\u001b[39m\u001b[38;5;28;01mTrue\u001b[39;00m)\n",
      "\u001b[0;31mKeyboardInterrupt\u001b[0m: Interrupted by user"
     ]
    }
   ],
   "source": [
    "desarrollo_juego(palabrafit)"
   ]
  },
  {
   "cell_type": "code",
   "execution_count": 25,
   "metadata": {},
   "outputs": [],
   "source": [
    "def terminar_juego():\n",
    "    if palabra_oculta == palabra:\n",
    "        print(f'Felicidades. Has adivinado la palabra {palabra}')\n",
    "    else:\n",
    "        print('Lo siento. ¡Has perdido!')\n",
    "        mostrar_ahorcado(max_intentos)\n",
    "        print(f'La palabra era: {palabra}')"
   ]
  },
  {
   "cell_type": "code",
   "execution_count": null,
   "metadata": {},
   "outputs": [],
   "source": [
    "terminar_juego()"
   ]
  }
 ],
 "metadata": {
  "kernelspec": {
   "display_name": "base",
   "language": "python",
   "name": "python3"
  },
  "language_info": {
   "codemirror_mode": {
    "name": "ipython",
    "version": 3
   },
   "file_extension": ".py",
   "mimetype": "text/x-python",
   "name": "python",
   "nbconvert_exporter": "python",
   "pygments_lexer": "ipython3",
   "version": "3.11.5"
  }
 },
 "nbformat": 4,
 "nbformat_minor": 2
}
